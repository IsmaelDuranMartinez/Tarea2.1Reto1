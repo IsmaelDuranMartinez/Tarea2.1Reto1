{
  "nbformat": 4,
  "nbformat_minor": 0,
  "metadata": {
    "colab": {
      "provenance": [],
      "authorship_tag": "ABX9TyOv3LLZrrb+Sq+sxeAlSwJ4",
      "include_colab_link": true
    },
    "kernelspec": {
      "name": "python3",
      "display_name": "Python 3"
    },
    "language_info": {
      "name": "python"
    }
  },
  "cells": [
    {
      "cell_type": "markdown",
      "metadata": {
        "id": "view-in-github",
        "colab_type": "text"
      },
      "source": [
        "<a href=\"https://colab.research.google.com/github/Ismaelduranm/Tarea2.1Reto1/blob/main/2.2/Tarea2_2.ipynb\" target=\"_parent\"><img src=\"https://colab.research.google.com/assets/colab-badge.svg\" alt=\"Open In Colab\"/></a>"
      ]
    },
    {
      "cell_type": "code",
      "execution_count": 2,
      "metadata": {
        "colab": {
          "base_uri": "https://localhost:8080/"
        },
        "id": "D4Pjap3JTZNe",
        "outputId": "825030bd-a78c-414a-c755-b29e3c692384"
      },
      "outputs": [
        {
          "output_type": "stream",
          "name": "stdout",
          "text": [
            "               Fecha Alta        Tipo Operación  Provincia  Superficie  \\\n",
            "3     2004-01-02 00:00:00     Parking  Alquiler     Girona       285.0   \n",
            "4     2004-01-02 00:00:00       Suelo     Venta  Tarragona       152.0   \n",
            "3331  2007-04-29 00:00:00     Oficina     Venta     Lleida       190.0   \n",
            "3332  2007-04-29 00:00:00  Industrial  Alquiler     Lleida       221.0   \n",
            "3333  2007-04-29 00:00:00        Piso  Alquiler     Girona        55.0   \n",
            "\n",
            "      Precio Venta          Fecha Venta Vendedor  \n",
            "3              NaN  2004-04-27 00:00:00    Jesús  \n",
            "4         185000.0  2004-07-10 00:00:00    María  \n",
            "3331     1031320.0                  NaN      NaN  \n",
            "3332     1450644.0                  NaN      NaN  \n",
            "3333      454080.0                  NaN      NaN  \n",
            "               Fecha Alta        Tipo Operación  Provincia  Superficie  \\\n",
            "0     2004-01-01 00:00:00     Parking  Alquiler     Lleida       291.0   \n",
            "1     2004-01-01 00:00:00       Local     Venta     Girona       185.0   \n",
            "3     2004-01-02 00:00:00     Parking  Alquiler     Girona       285.0   \n",
            "5     2004-01-03 00:00:00  Industrial  Alquiler     Girona       131.0   \n",
            "8     2004-01-04 00:00:00        Piso  Alquiler     Lleida       108.0   \n",
            "...                   ...         ...       ...        ...         ...   \n",
            "3330  2007-04-27 00:00:00       Local     Venta     Girona       110.0   \n",
            "3332  2007-04-29 00:00:00  Industrial  Alquiler     Lleida       221.0   \n",
            "3333  2007-04-29 00:00:00        Piso  Alquiler     Girona        55.0   \n",
            "3335  2007-04-30 00:00:00        Piso  Alquiler  Barcelona        88.0   \n",
            "3336  2007-04-30 00:00:00     Parking     Venta     Lleida         NaN   \n",
            "\n",
            "      Precio Venta          Fecha Venta Vendedor  \n",
            "0        2133903.0  2004-06-19 00:00:00   Carmen  \n",
            "1        1945424.0  2004-04-19 00:00:00    Pedro  \n",
            "3              NaN  2004-04-27 00:00:00    Jesús  \n",
            "5         953156.0  2004-09-05 00:00:00    Pedro  \n",
            "8        1024380.0  2004-12-28 00:00:00    Jesús  \n",
            "...            ...                  ...      ...  \n",
            "3330      845790.0                  NaN      NaN  \n",
            "3332     1450644.0                  NaN      NaN  \n",
            "3333      454080.0                  NaN      NaN  \n",
            "3335      397408.0                  NaN      NaN  \n",
            "3336     2140712.0                  NaN      NaN  \n",
            "\n",
            "[1939 rows x 8 columns]\n",
            "               Fecha Alta        Tipo Operación Provincia  Superficie  \\\n",
            "1     2004-01-01 00:00:00       Local     Venta    Girona       185.0   \n",
            "3     2004-01-02 00:00:00     Parking  Alquiler    Girona       285.0   \n",
            "5     2004-01-03 00:00:00  Industrial  Alquiler    Girona       131.0   \n",
            "7     2004-01-03 00:00:00     Oficina     Venta    Girona       235.0   \n",
            "10    2004-01-04 00:00:00     Oficina  Alquiler    Girona       124.0   \n",
            "...                   ...         ...       ...       ...         ...   \n",
            "3299  2007-04-12 00:00:00       Local  Alquiler    Girona       156.0   \n",
            "3303  2007-04-12 00:00:00        Piso     Venta    Girona       128.0   \n",
            "3306  2007-04-14 00:00:00     Parking     Venta    Girona       221.0   \n",
            "3316  2007-04-20 00:00:00        Casa     Venta    Girona       247.0   \n",
            "3330  2007-04-27 00:00:00       Local     Venta    Girona       110.0   \n",
            "\n",
            "      Precio Venta          Fecha Venta Vendedor  \n",
            "1        1945424.0  2004-04-19 00:00:00    Pedro  \n",
            "3              NaN  2004-04-27 00:00:00    Jesús  \n",
            "5         953156.0  2004-09-05 00:00:00    Pedro  \n",
            "7        2158475.0  2004-10-31 00:00:00    Jesús  \n",
            "10        627068.0  2004-10-28 00:00:00    Pedro  \n",
            "...            ...                  ...      ...  \n",
            "3299      881868.0                  NaN      NaN  \n",
            "3303     1270400.0                  NaN      NaN  \n",
            "3306     1533077.0                  NaN      NaN  \n",
            "3316     1804088.0                  NaN      NaN  \n",
            "3330      845790.0                  NaN      NaN  \n",
            "\n",
            "[651 rows x 8 columns]\n",
            "               Fecha Alta        Tipo Operación  Provincia  Superficie  \\\n",
            "0     2004-01-01 00:00:00     Parking  Alquiler     Lleida       291.0   \n",
            "1     2004-01-01 00:00:00       Local     Venta     Girona       185.0   \n",
            "7     2004-01-03 00:00:00     Oficina     Venta     Girona       235.0   \n",
            "8     2004-01-04 00:00:00        Piso  Alquiler     Lleida       108.0   \n",
            "9     2004-01-04 00:00:00     Parking     Venta     Lleida       299.0   \n",
            "...                   ...         ...       ...        ...         ...   \n",
            "3325  2007-04-25 00:00:00  Industrial  Alquiler        NaN       296.0   \n",
            "3328  2007-04-26 00:00:00        Piso     Venta  Barcelona       264.0   \n",
            "3331  2007-04-29 00:00:00     Oficina     Venta     Lleida       190.0   \n",
            "3332  2007-04-29 00:00:00  Industrial  Alquiler     Lleida       221.0   \n",
            "3336  2007-04-30 00:00:00     Parking     Venta     Lleida         NaN   \n",
            "\n",
            "      Precio Venta          Fecha Venta Vendedor  \n",
            "0        2133903.0  2004-06-19 00:00:00   Carmen  \n",
            "1        1945424.0  2004-04-19 00:00:00    Pedro  \n",
            "7        2158475.0  2004-10-31 00:00:00    Jesús  \n",
            "8        1024380.0  2004-12-28 00:00:00    Jesús  \n",
            "9        2042768.0  2004-10-06 00:00:00  Joaquín  \n",
            "...            ...                  ...      ...  \n",
            "3325     2078216.0                  NaN      NaN  \n",
            "3328     2517504.0                  NaN      NaN  \n",
            "3331     1031320.0                  NaN      NaN  \n",
            "3332     1450644.0                  NaN      NaN  \n",
            "3336     2140712.0                  NaN      NaN  \n",
            "\n",
            "[2099 rows x 8 columns]\n",
            "               Fecha Alta        Tipo Operación  Provincia  Superficie  \\\n",
            "0     2004-01-01 00:00:00     Parking  Alquiler     Lleida       291.0   \n",
            "1     2004-01-01 00:00:00       Local     Venta     Girona       185.0   \n",
            "2     2004-01-01 00:00:00     Oficina  Alquiler     Girona        82.0   \n",
            "3     2004-01-02 00:00:00     Parking  Alquiler     Girona       285.0   \n",
            "4     2004-01-02 00:00:00       Suelo     Venta  Tarragona       152.0   \n",
            "...                   ...         ...       ...        ...         ...   \n",
            "3331  2007-04-29 00:00:00     Oficina     Venta     Lleida       190.0   \n",
            "3332  2007-04-29 00:00:00  Industrial  Alquiler     Lleida       221.0   \n",
            "3333  2007-04-29 00:00:00        Piso  Alquiler     Girona        55.0   \n",
            "3334  2007-04-30 00:00:00       Suelo     Venta  Tarragona        78.0   \n",
            "3336  2007-04-30 00:00:00     Parking     Venta     Lleida         NaN   \n",
            "\n",
            "      Precio Venta          Fecha Venta Vendedor  \n",
            "0        2133903.0  2004-06-19 00:00:00   Carmen  \n",
            "1        1945424.0  2004-04-19 00:00:00    Pedro  \n",
            "2              NaN  2004-11-08 00:00:00  Joaquín  \n",
            "3              NaN  2004-04-27 00:00:00    Jesús  \n",
            "4         185000.0  2004-07-10 00:00:00    María  \n",
            "...            ...                  ...      ...  \n",
            "3331     1031320.0                  NaN      NaN  \n",
            "3332     1450644.0                  NaN      NaN  \n",
            "3333      454080.0                  NaN      NaN  \n",
            "3334      740688.0                  NaN      NaN  \n",
            "3336     2140712.0                  NaN      NaN  \n",
            "\n",
            "[2503 rows x 8 columns]\n",
            "               Fecha Alta        Tipo Operación  Provincia  Superficie  \\\n",
            "0     2004-01-01 00:00:00     Parking  Alquiler     Lleida       291.0   \n",
            "1     2004-01-01 00:00:00       Local     Venta     Girona       185.0   \n",
            "2     2004-01-01 00:00:00     Oficina  Alquiler     Girona        82.0   \n",
            "3     2004-01-02 00:00:00     Parking  Alquiler     Girona       285.0   \n",
            "4     2004-01-02 00:00:00       Suelo     Venta  Tarragona       152.0   \n",
            "...                   ...         ...       ...        ...         ...   \n",
            "3332  2007-04-29 00:00:00  Industrial  Alquiler     Lleida       221.0   \n",
            "3333  2007-04-29 00:00:00        Piso  Alquiler     Girona        55.0   \n",
            "3334  2007-04-30 00:00:00       Suelo     Venta  Tarragona        78.0   \n",
            "3335  2007-04-30 00:00:00        Piso  Alquiler  Barcelona        88.0   \n",
            "3336  2007-04-30 00:00:00     Parking     Venta     Lleida         NaN   \n",
            "\n",
            "      Precio Venta          Fecha Venta Vendedor  \n",
            "0        2133903.0  2004-06-19 00:00:00   Carmen  \n",
            "1        1945424.0  2004-04-19 00:00:00    Pedro  \n",
            "2              NaN  2004-11-08 00:00:00  Joaquín  \n",
            "3              NaN  2004-04-27 00:00:00    Jesús  \n",
            "4         185000.0  2004-07-10 00:00:00    María  \n",
            "...            ...                  ...      ...  \n",
            "3332     1450644.0                  NaN      NaN  \n",
            "3333      454080.0                  NaN      NaN  \n",
            "3334      740688.0                  NaN      NaN  \n",
            "3335      397408.0                  NaN      NaN  \n",
            "3336     2140712.0                  NaN      NaN  \n",
            "\n",
            "[3337 rows x 8 columns]\n"
          ]
        }
      ],
      "source": [
        "#Importamos las librerias pandas, numpy y matplotlib respectivamente\n",
        "import pandas as pd\n",
        "\n",
        "#Carga desde un archivo .csv sin indice\n",
        "df = pd.read_csv('inmuebles2.csv')\n",
        "\n",
        "#a) Eliminar la fila “0” de “Unnamed” y Eliminar la columna “0” de “Referencia”\n",
        "df= pd.read_csv('inmuebles2.csv', skiprows=1)\n",
        "df= df.drop(['0','Referencia'], axis=1)\n",
        "df\n",
        " #Importamos las librerias pandas, numpy y matplotlib respectivamente\n",
        "import pandas as pd\n",
        "\n",
        "#Carga desde un archivo .csv sin indice\n",
        "df = pd.read_csv('inmuebles2.csv')\n",
        "\n",
        "#a) Eliminar la fila “0” de “Unnamed” y Eliminar la columna “0” de “Referencia”\n",
        "df= pd.read_csv('inmuebles2.csv', skiprows=1)\n",
        "df= df.drop(['0','Referencia'], axis=1)\n",
        "df\n",
        "\n",
        "#b) Todos las registros de “Fecha Alta : igual a 2007-04-29 00:00:00 y a 2004-01-02 00:00:00\n",
        "df_b = df[(df['Fecha Alta'] == \"2007-04-29 00:00:00\") | (df['Fecha Alta'] == \"2004-01-02 00:00:00\")]\n",
        "print(df_b)\n",
        "\n",
        "#c) Todos los registros de “ Tipo: parking, local, industrial y piso”\n",
        "df_c = df[(df['Tipo'] == \"Parking\") | (df['Tipo'] == \"Local\") | (df['Tipo'] == \"Industrial\") | (df['Tipo'] == \"Piso\")]\n",
        "print(df_c)\n",
        "\n",
        "#d) Todos los registros con “Provincia” igual a “Girona” y con “Superficie” mayor a “100”\n",
        "df_d= df[(df['Provincia'] == 'Girona') & (df['Superficie'] > 100)]\n",
        "print(df_d)\n",
        "\n",
        "#e) Todos los registros con “Precio Venta: mayor a 1000,000” o “vendedor” igual a “Carmen o Joaquin”\n",
        "df_e = df[(df['Precio Venta'] > 1000000) | (df['Vendedor'] == 'Carmen') | (df['Vendedor'] == 'Joaquin')]\n",
        "print(df_e)\n",
        "\n",
        "#f) Todos los registros que no sean de “Provincia : Barcelona“\n",
        "df_f= df[~(df['Provincia'] == 'Barcelona')]\n",
        "print(df_f)\n",
        "\n",
        "#g)Todos los registros que no sean de “Operación: alquiler “ ni “Tipo: oficina“\n",
        "df_g= df[~(df['Operación'] == 'alquiler') & ~(df['Tipo'] == 'oficina')]\n",
        "print(df_g)"
      ]
    },
    {
      "cell_type": "code",
      "source": [
        "df_b.to_csv(\"df_b.csv\")\n",
        "from google.colab import files\n",
        "\n",
        "\n",
        "files.download(\"df_b.csv\")"
      ],
      "metadata": {
        "colab": {
          "base_uri": "https://localhost:8080/",
          "height": 17
        },
        "id": "Yz7T9PgYTdD3",
        "outputId": "80c36615-9634-4eb2-8312-5999bb248e38"
      },
      "execution_count": 3,
      "outputs": [
        {
          "output_type": "display_data",
          "data": {
            "text/plain": [
              "<IPython.core.display.Javascript object>"
            ],
            "application/javascript": [
              "\n",
              "    async function download(id, filename, size) {\n",
              "      if (!google.colab.kernel.accessAllowed) {\n",
              "        return;\n",
              "      }\n",
              "      const div = document.createElement('div');\n",
              "      const label = document.createElement('label');\n",
              "      label.textContent = `Downloading \"${filename}\": `;\n",
              "      div.appendChild(label);\n",
              "      const progress = document.createElement('progress');\n",
              "      progress.max = size;\n",
              "      div.appendChild(progress);\n",
              "      document.body.appendChild(div);\n",
              "\n",
              "      const buffers = [];\n",
              "      let downloaded = 0;\n",
              "\n",
              "      const channel = await google.colab.kernel.comms.open(id);\n",
              "      // Send a message to notify the kernel that we're ready.\n",
              "      channel.send({})\n",
              "\n",
              "      for await (const message of channel.messages) {\n",
              "        // Send a message to notify the kernel that we're ready.\n",
              "        channel.send({})\n",
              "        if (message.buffers) {\n",
              "          for (const buffer of message.buffers) {\n",
              "            buffers.push(buffer);\n",
              "            downloaded += buffer.byteLength;\n",
              "            progress.value = downloaded;\n",
              "          }\n",
              "        }\n",
              "      }\n",
              "      const blob = new Blob(buffers, {type: 'application/binary'});\n",
              "      const a = document.createElement('a');\n",
              "      a.href = window.URL.createObjectURL(blob);\n",
              "      a.download = filename;\n",
              "      div.appendChild(a);\n",
              "      a.click();\n",
              "      div.remove();\n",
              "    }\n",
              "  "
            ]
          },
          "metadata": {}
        },
        {
          "output_type": "display_data",
          "data": {
            "text/plain": [
              "<IPython.core.display.Javascript object>"
            ],
            "application/javascript": [
              "download(\"download_7fd385cf-9d1b-4d85-ad8b-7d87d2f463e2\", \"df_b.csv\", 445)"
            ]
          },
          "metadata": {}
        }
      ]
    },
    {
      "cell_type": "code",
      "source": [
        "df_c.to_csv(\"df_c.csv\")\n",
        "from google.colab import files\n",
        "\n",
        "\n",
        "files.download(\"df_c.csv\")"
      ],
      "metadata": {
        "colab": {
          "base_uri": "https://localhost:8080/",
          "height": 17
        },
        "id": "b-ja0LnOVekn",
        "outputId": "d489b1e4-c193-4a38-d394-810292b2c561"
      },
      "execution_count": 4,
      "outputs": [
        {
          "output_type": "display_data",
          "data": {
            "text/plain": [
              "<IPython.core.display.Javascript object>"
            ],
            "application/javascript": [
              "\n",
              "    async function download(id, filename, size) {\n",
              "      if (!google.colab.kernel.accessAllowed) {\n",
              "        return;\n",
              "      }\n",
              "      const div = document.createElement('div');\n",
              "      const label = document.createElement('label');\n",
              "      label.textContent = `Downloading \"${filename}\": `;\n",
              "      div.appendChild(label);\n",
              "      const progress = document.createElement('progress');\n",
              "      progress.max = size;\n",
              "      div.appendChild(progress);\n",
              "      document.body.appendChild(div);\n",
              "\n",
              "      const buffers = [];\n",
              "      let downloaded = 0;\n",
              "\n",
              "      const channel = await google.colab.kernel.comms.open(id);\n",
              "      // Send a message to notify the kernel that we're ready.\n",
              "      channel.send({})\n",
              "\n",
              "      for await (const message of channel.messages) {\n",
              "        // Send a message to notify the kernel that we're ready.\n",
              "        channel.send({})\n",
              "        if (message.buffers) {\n",
              "          for (const buffer of message.buffers) {\n",
              "            buffers.push(buffer);\n",
              "            downloaded += buffer.byteLength;\n",
              "            progress.value = downloaded;\n",
              "          }\n",
              "        }\n",
              "      }\n",
              "      const blob = new Blob(buffers, {type: 'application/binary'});\n",
              "      const a = document.createElement('a');\n",
              "      a.href = window.URL.createObjectURL(blob);\n",
              "      a.download = filename;\n",
              "      div.appendChild(a);\n",
              "      a.click();\n",
              "      div.remove();\n",
              "    }\n",
              "  "
            ]
          },
          "metadata": {}
        },
        {
          "output_type": "display_data",
          "data": {
            "text/plain": [
              "<IPython.core.display.Javascript object>"
            ],
            "application/javascript": [
              "download(\"download_908d337a-8c0b-4ff2-b703-93709097069a\", \"df_c.csv\", 167016)"
            ]
          },
          "metadata": {}
        }
      ]
    },
    {
      "cell_type": "code",
      "source": [
        "from google.colab import files\n",
        "df_d.to_csv(\"df_d.csv\")\n",
        "\n",
        "\n",
        "files.download(\"df_d.csv\")"
      ],
      "metadata": {
        "colab": {
          "base_uri": "https://localhost:8080/",
          "height": 17
        },
        "id": "5SJhyNumVhqM",
        "outputId": "57924182-375d-4453-d905-8b261edc6a81"
      },
      "execution_count": 5,
      "outputs": [
        {
          "output_type": "display_data",
          "data": {
            "text/plain": [
              "<IPython.core.display.Javascript object>"
            ],
            "application/javascript": [
              "\n",
              "    async function download(id, filename, size) {\n",
              "      if (!google.colab.kernel.accessAllowed) {\n",
              "        return;\n",
              "      }\n",
              "      const div = document.createElement('div');\n",
              "      const label = document.createElement('label');\n",
              "      label.textContent = `Downloading \"${filename}\": `;\n",
              "      div.appendChild(label);\n",
              "      const progress = document.createElement('progress');\n",
              "      progress.max = size;\n",
              "      div.appendChild(progress);\n",
              "      document.body.appendChild(div);\n",
              "\n",
              "      const buffers = [];\n",
              "      let downloaded = 0;\n",
              "\n",
              "      const channel = await google.colab.kernel.comms.open(id);\n",
              "      // Send a message to notify the kernel that we're ready.\n",
              "      channel.send({})\n",
              "\n",
              "      for await (const message of channel.messages) {\n",
              "        // Send a message to notify the kernel that we're ready.\n",
              "        channel.send({})\n",
              "        if (message.buffers) {\n",
              "          for (const buffer of message.buffers) {\n",
              "            buffers.push(buffer);\n",
              "            downloaded += buffer.byteLength;\n",
              "            progress.value = downloaded;\n",
              "          }\n",
              "        }\n",
              "      }\n",
              "      const blob = new Blob(buffers, {type: 'application/binary'});\n",
              "      const a = document.createElement('a');\n",
              "      a.href = window.URL.createObjectURL(blob);\n",
              "      a.download = filename;\n",
              "      div.appendChild(a);\n",
              "      a.click();\n",
              "      div.remove();\n",
              "    }\n",
              "  "
            ]
          },
          "metadata": {}
        },
        {
          "output_type": "display_data",
          "data": {
            "text/plain": [
              "<IPython.core.display.Javascript object>"
            ],
            "application/javascript": [
              "download(\"download_2b3194a4-56ae-4e21-9f4b-75911e8d7351\", \"df_d.csv\", 55114)"
            ]
          },
          "metadata": {}
        }
      ]
    },
    {
      "cell_type": "code",
      "source": [
        "df_e.to_csv(\"df_e.csv\")\n",
        "from google.colab import files\n",
        "\n",
        "\n",
        "files.download(\"df_e.csv\")"
      ],
      "metadata": {
        "colab": {
          "base_uri": "https://localhost:8080/",
          "height": 17
        },
        "id": "d2cmKeSEVmI0",
        "outputId": "3d0440eb-4b5c-4260-e54b-cf19ebf0fe91"
      },
      "execution_count": 6,
      "outputs": [
        {
          "output_type": "display_data",
          "data": {
            "text/plain": [
              "<IPython.core.display.Javascript object>"
            ],
            "application/javascript": [
              "\n",
              "    async function download(id, filename, size) {\n",
              "      if (!google.colab.kernel.accessAllowed) {\n",
              "        return;\n",
              "      }\n",
              "      const div = document.createElement('div');\n",
              "      const label = document.createElement('label');\n",
              "      label.textContent = `Downloading \"${filename}\": `;\n",
              "      div.appendChild(label);\n",
              "      const progress = document.createElement('progress');\n",
              "      progress.max = size;\n",
              "      div.appendChild(progress);\n",
              "      document.body.appendChild(div);\n",
              "\n",
              "      const buffers = [];\n",
              "      let downloaded = 0;\n",
              "\n",
              "      const channel = await google.colab.kernel.comms.open(id);\n",
              "      // Send a message to notify the kernel that we're ready.\n",
              "      channel.send({})\n",
              "\n",
              "      for await (const message of channel.messages) {\n",
              "        // Send a message to notify the kernel that we're ready.\n",
              "        channel.send({})\n",
              "        if (message.buffers) {\n",
              "          for (const buffer of message.buffers) {\n",
              "            buffers.push(buffer);\n",
              "            downloaded += buffer.byteLength;\n",
              "            progress.value = downloaded;\n",
              "          }\n",
              "        }\n",
              "      }\n",
              "      const blob = new Blob(buffers, {type: 'application/binary'});\n",
              "      const a = document.createElement('a');\n",
              "      a.href = window.URL.createObjectURL(blob);\n",
              "      a.download = filename;\n",
              "      div.appendChild(a);\n",
              "      a.click();\n",
              "      div.remove();\n",
              "    }\n",
              "  "
            ]
          },
          "metadata": {}
        },
        {
          "output_type": "display_data",
          "data": {
            "text/plain": [
              "<IPython.core.display.Javascript object>"
            ],
            "application/javascript": [
              "download(\"download_2e810001-3175-4564-b277-0dff72d17e4a\", \"df_e.csv\", 181746)"
            ]
          },
          "metadata": {}
        }
      ]
    },
    {
      "cell_type": "code",
      "source": [
        "df_f.to_csv(\"df_f.csv\")\n",
        "from google.colab import files\n",
        "\n",
        "\n",
        "files.download(\"df_f.csv\")"
      ],
      "metadata": {
        "colab": {
          "base_uri": "https://localhost:8080/",
          "height": 17
        },
        "id": "jRi0PIWRVnOV",
        "outputId": "507ebbea-a150-41d5-dcaf-34c9b35b27cb"
      },
      "execution_count": 7,
      "outputs": [
        {
          "output_type": "display_data",
          "data": {
            "text/plain": [
              "<IPython.core.display.Javascript object>"
            ],
            "application/javascript": [
              "\n",
              "    async function download(id, filename, size) {\n",
              "      if (!google.colab.kernel.accessAllowed) {\n",
              "        return;\n",
              "      }\n",
              "      const div = document.createElement('div');\n",
              "      const label = document.createElement('label');\n",
              "      label.textContent = `Downloading \"${filename}\": `;\n",
              "      div.appendChild(label);\n",
              "      const progress = document.createElement('progress');\n",
              "      progress.max = size;\n",
              "      div.appendChild(progress);\n",
              "      document.body.appendChild(div);\n",
              "\n",
              "      const buffers = [];\n",
              "      let downloaded = 0;\n",
              "\n",
              "      const channel = await google.colab.kernel.comms.open(id);\n",
              "      // Send a message to notify the kernel that we're ready.\n",
              "      channel.send({})\n",
              "\n",
              "      for await (const message of channel.messages) {\n",
              "        // Send a message to notify the kernel that we're ready.\n",
              "        channel.send({})\n",
              "        if (message.buffers) {\n",
              "          for (const buffer of message.buffers) {\n",
              "            buffers.push(buffer);\n",
              "            downloaded += buffer.byteLength;\n",
              "            progress.value = downloaded;\n",
              "          }\n",
              "        }\n",
              "      }\n",
              "      const blob = new Blob(buffers, {type: 'application/binary'});\n",
              "      const a = document.createElement('a');\n",
              "      a.href = window.URL.createObjectURL(blob);\n",
              "      a.download = filename;\n",
              "      div.appendChild(a);\n",
              "      a.click();\n",
              "      div.remove();\n",
              "    }\n",
              "  "
            ]
          },
          "metadata": {}
        },
        {
          "output_type": "display_data",
          "data": {
            "text/plain": [
              "<IPython.core.display.Javascript object>"
            ],
            "application/javascript": [
              "download(\"download_6751dc7e-d8c4-4f23-8339-31e0c132bf98\", \"df_f.csv\", 212978)"
            ]
          },
          "metadata": {}
        }
      ]
    },
    {
      "cell_type": "code",
      "source": [
        "df_g.to_csv(\"df_g.csv\")\n",
        "from google.colab import files\n",
        "\n",
        "\n",
        "files.download(\"df_g.csv\")"
      ],
      "metadata": {
        "colab": {
          "base_uri": "https://localhost:8080/",
          "height": 17
        },
        "id": "lqoutE3VVrv0",
        "outputId": "8be20162-c229-4e97-a00d-cde75408df30"
      },
      "execution_count": 8,
      "outputs": [
        {
          "output_type": "display_data",
          "data": {
            "text/plain": [
              "<IPython.core.display.Javascript object>"
            ],
            "application/javascript": [
              "\n",
              "    async function download(id, filename, size) {\n",
              "      if (!google.colab.kernel.accessAllowed) {\n",
              "        return;\n",
              "      }\n",
              "      const div = document.createElement('div');\n",
              "      const label = document.createElement('label');\n",
              "      label.textContent = `Downloading \"${filename}\": `;\n",
              "      div.appendChild(label);\n",
              "      const progress = document.createElement('progress');\n",
              "      progress.max = size;\n",
              "      div.appendChild(progress);\n",
              "      document.body.appendChild(div);\n",
              "\n",
              "      const buffers = [];\n",
              "      let downloaded = 0;\n",
              "\n",
              "      const channel = await google.colab.kernel.comms.open(id);\n",
              "      // Send a message to notify the kernel that we're ready.\n",
              "      channel.send({})\n",
              "\n",
              "      for await (const message of channel.messages) {\n",
              "        // Send a message to notify the kernel that we're ready.\n",
              "        channel.send({})\n",
              "        if (message.buffers) {\n",
              "          for (const buffer of message.buffers) {\n",
              "            buffers.push(buffer);\n",
              "            downloaded += buffer.byteLength;\n",
              "            progress.value = downloaded;\n",
              "          }\n",
              "        }\n",
              "      }\n",
              "      const blob = new Blob(buffers, {type: 'application/binary'});\n",
              "      const a = document.createElement('a');\n",
              "      a.href = window.URL.createObjectURL(blob);\n",
              "      a.download = filename;\n",
              "      div.appendChild(a);\n",
              "      a.click();\n",
              "      div.remove();\n",
              "    }\n",
              "  "
            ]
          },
          "metadata": {}
        },
        {
          "output_type": "display_data",
          "data": {
            "text/plain": [
              "<IPython.core.display.Javascript object>"
            ],
            "application/javascript": [
              "download(\"download_811fb437-868c-4877-93a7-1152ac30c430\", \"df_g.csv\", 285900)"
            ]
          },
          "metadata": {}
        }
      ]
    }
  ]
}