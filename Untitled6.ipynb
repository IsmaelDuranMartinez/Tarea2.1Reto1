{
  "nbformat": 4,
  "nbformat_minor": 0,
  "metadata": {
    "colab": {
      "provenance": [],
      "authorship_tag": "ABX9TyPzDv4ZJJuBK9UvuMVlGez8",
      "include_colab_link": true
    },
    "kernelspec": {
      "name": "python3",
      "display_name": "Python 3"
    },
    "language_info": {
      "name": "python"
    }
  },
  "cells": [
    {
      "cell_type": "markdown",
      "metadata": {
        "id": "view-in-github",
        "colab_type": "text"
      },
      "source": [
        "<a href=\"https://colab.research.google.com/github/Ismaelduranm/Tarea2.1Reto1/blob/main/Untitled6.ipynb\" target=\"_parent\"><img src=\"https://colab.research.google.com/assets/colab-badge.svg\" alt=\"Open In Colab\"/></a>"
      ]
    },
    {
      "cell_type": "code",
      "execution_count": 5,
      "metadata": {
        "colab": {
          "base_uri": "https://localhost:8080/"
        },
        "id": "UADMUeHs11pU",
        "outputId": "be5b9eb8-e272-46db-939f-f3f98656ad29"
      },
      "outputs": [
        {
          "output_type": "stream",
          "name": "stdout",
          "text": [
            "   indice_tiempo  ventas_precios_corrientes  ventas_precios_constantes  \\\n",
            "2     2017-03-01                    27780.0                    26334.3   \n",
            "3     2017-04-01                    29134.3                    27045.9   \n",
            "4     2017-05-01                    27969.0                    25631.9   \n",
            "5     2017-06-01                    29132.7                    26365.4   \n",
            "6     2017-07-01                    31182.3                    27819.4   \n",
            "..           ...                        ...                        ...   \n",
            "60    2022-01-01                   154517.1                    25463.4   \n",
            "61    2022-02-01                   152202.6                    23802.1   \n",
            "62    2022-03-01                   168982.5                    24612.4   \n",
            "63    2022-04-01                   177148.1                    24140.5   \n",
            "64    2022-05-01                   179639.2                    23234.2   \n",
            "\n",
            "    ventas_totales_canal_venta  salon_ventas  canales_on_line  \\\n",
            "2                 2.778001e+07  2.747223e+07     3.077778e+05   \n",
            "3                 2.913427e+07  2.882748e+07     3.067927e+05   \n",
            "4                 2.796900e+07  2.756931e+07     3.996933e+05   \n",
            "5                 2.913271e+07  2.876387e+07     3.688473e+05   \n",
            "6                 3.118230e+07  3.081531e+07     3.669907e+05   \n",
            "..                         ...           ...              ...   \n",
            "60                1.545171e+08  1.496976e+08     4.819480e+06   \n",
            "61                1.522026e+08  1.484065e+08     3.796044e+06   \n",
            "62                1.689825e+08  1.643211e+08     4.661395e+06   \n",
            "63                1.771481e+08  1.730038e+08     4.144284e+06   \n",
            "64                1.796392e+08  1.753585e+08     4.280751e+06   \n",
            "\n",
            "    ventas_totales_medio_pago      efectivo  tarjetas_debito  \\\n",
            "2                2.778001e+07  1.024444e+07     6.908523e+06   \n",
            "3                2.913427e+07  1.031263e+07     7.454252e+06   \n",
            "4                2.796900e+07  1.014761e+07     6.735747e+06   \n",
            "5                2.913271e+07  1.056549e+07     7.337457e+06   \n",
            "6                3.118230e+07  1.090591e+07     8.183012e+06   \n",
            "..                        ...           ...              ...   \n",
            "60               1.545171e+08  4.696260e+07     4.605365e+07   \n",
            "61               1.522026e+08  4.629096e+07     4.528358e+07   \n",
            "62               1.689825e+08  5.126208e+07     4.736436e+07   \n",
            "63               1.771481e+08  5.319000e+07     5.006397e+07   \n",
            "64               1.796392e+08  5.273811e+07     4.988679e+07   \n",
            "\n",
            "    tarjetas_credito  ...       almacen     panaderia       lacteos  \\\n",
            "2       8.845010e+06  ...  7.437264e+06  1.016148e+06  3.188259e+06   \n",
            "3       9.458167e+06  ...  8.211244e+06  1.132396e+06  3.257140e+06   \n",
            "4       9.220930e+06  ...  7.651058e+06  1.033082e+06  3.232636e+06   \n",
            "5       9.196110e+06  ...  7.911936e+06  1.083494e+06  3.322050e+06   \n",
            "6       1.016290e+07  ...  8.482568e+06  1.153102e+06  3.534097e+06   \n",
            "..               ...  ...           ...           ...           ...   \n",
            "60      5.404833e+07  ...  3.750517e+07  4.860318e+06  1.610477e+07   \n",
            "61      5.370589e+07  ...  3.820979e+07  5.045920e+06  1.613982e+07   \n",
            "62      6.241602e+07  ...  4.541886e+07  5.922820e+06  1.841916e+07   \n",
            "63      6.535759e+07  ...  4.999168e+07  6.746167e+06  1.930946e+07   \n",
            "64      6.807009e+07  ...  5.015035e+07  6.667330e+06  2.012112e+07   \n",
            "\n",
            "          carnes  verduleria_fruteria  alimentos_preparados_rotiseria  \\\n",
            "2   2.824977e+06         1.075526e+06                    3.533352e+05   \n",
            "3   3.006159e+06         1.037213e+06                    3.596945e+05   \n",
            "4   2.799142e+06         9.826512e+05                    3.365680e+05   \n",
            "5   2.883229e+06         9.522033e+05                    3.451141e+05   \n",
            "6   3.013144e+06         9.943436e+05                    3.800082e+05   \n",
            "..           ...                  ...                             ...   \n",
            "60  1.740849e+07         6.138441e+06                    1.401929e+06   \n",
            "61  1.826074e+07         6.436028e+06                    1.370640e+06   \n",
            "62  2.082760e+07         6.886240e+06                    1.589119e+06   \n",
            "63  2.287784e+07         6.510666e+06                    1.719459e+06   \n",
            "64  2.284153e+07         6.314109e+06                    1.779483e+06   \n",
            "\n",
            "    articulos_limpieza_perfumeria  indumentaria_calzado_textiles_hogar  \\\n",
            "2                    4.354198e+06                         6.676967e+05   \n",
            "3                    4.355707e+06                         8.389482e+05   \n",
            "4                    4.206102e+06                         9.158951e+05   \n",
            "5                    4.277890e+06                         1.001572e+06   \n",
            "6                    4.599798e+06                         1.026743e+06   \n",
            "..                            ...                                  ...   \n",
            "60                   2.133021e+07                         3.782646e+06   \n",
            "61                   2.030545e+07                         3.875499e+06   \n",
            "62                   2.294201e+07                         3.912852e+06   \n",
            "63                   2.313127e+07                         4.228054e+06   \n",
            "64                   2.357864e+07                         5.213153e+06   \n",
            "\n",
            "    electronicos_articulos_hogar         otros  \n",
            "2                   1.305675e+06  2.266189e+06  \n",
            "3                   1.535726e+06  2.146756e+06  \n",
            "4                   1.824462e+06  2.117971e+06  \n",
            "5                   1.893542e+06  2.358093e+06  \n",
            "6                   1.995091e+06  2.678009e+06  \n",
            "..                           ...           ...  \n",
            "60                  1.218755e+07  1.343307e+07  \n",
            "61                  9.189746e+06  1.330139e+07  \n",
            "62                  1.089879e+07  1.240584e+07  \n",
            "63                  1.008133e+07  1.191048e+07  \n",
            "64                  1.203960e+07  1.234998e+07  \n",
            "\n",
            "[63 rows x 24 columns]\n"
          ]
        }
      ],
      "source": [
        "import pandas as pd\n",
        "\n",
        "#Carga desde un archivo .xlsx sin indice\n",
        "df= pd.read_csv('Ventas_totales_supermercados.csv')\n",
        "\n",
        "#a) Todos los registros de “indice_tiempo: posteriores a “2017-02-01” I\n",
        "df_a = df[df['indice_tiempo'] > '2017-02-01']\n",
        "print(df_a)\n",
        "\n",
        "\n",
        "\n",
        "\n",
        "\n"
      ]
    },
    {
      "cell_type": "code",
      "source": [],
      "metadata": {
        "id": "LmX5hvD8_0k4"
      },
      "execution_count": null,
      "outputs": []
    },
    {
      "cell_type": "code",
      "source": [
        "#b) Todos las registros de “ventas_precios_corrientes: mayor que 50,000 y menor que 120,000\n",
        "df_b = df[(df['ventas_precios_corrientes'] > 50000) & (df['ventas_precios_corrientes'] < 120000)]\n",
        "print(df_b)\n"
      ],
      "metadata": {
        "id": "eVX300Ue_VeC"
      },
      "execution_count": null,
      "outputs": []
    },
    {
      "cell_type": "code",
      "source": [
        "#c) Todos los registros de “ ventas_precios_constantes : menor que 25, 000 o mayor que 27,000”\n",
        "df_c=df[(df[\"ventas_precios_constantes\"] < 25000) | (df[\"ventas_precios_constantes\"] > 27000)]\n",
        "print(df_c)"
      ],
      "metadata": {
        "id": "4EG0PqDy_aJz"
      },
      "execution_count": null,
      "outputs": []
    },
    {
      "cell_type": "code",
      "source": [
        "#d) Todos los registros con “ventas_totales_canal_venta” mayor a “2.796900e+07” y con “salon_ventas” menor a “1.643211e+08” Manu\n",
        "df_d=df[(df[\"ventas_totales_canal_venta\"] > 27969000) & (df[\"salon_ventas\"] < 164321100)]\n",
        "print(df_d)"
      ],
      "metadata": {
        "id": "21dR9PLf_t1N"
      },
      "execution_count": null,
      "outputs": []
    },
    {
      "cell_type": "code",
      "source": [
        "#e) Todos los registros con “canales_on_line: igual a 3.996933e+05” o “ventas_totales_medio_pago” mayor a “2.913427e+07 ”\n",
        "df_e= df[(df['canales_on_line'] == 399693.3) | (df['ventas_totales_medio_pago'] > 29134270)]\n",
        "print(df_e)\n"
      ],
      "metadata": {
        "id": "2h21ICCE_2nI"
      },
      "execution_count": null,
      "outputs": []
    },
    {
      "cell_type": "code",
      "source": [
        "#f) Todos los registros que no sean de “efectivo mayor que 696260e+07“\n",
        "df_f= df[~(df['efectivo'] > 6962600)]\n",
        "print(df_f)"
      ],
      "metadata": {
        "id": "L0K3imYa_5bo"
      },
      "execution_count": null,
      "outputs": []
    },
    {
      "cell_type": "code",
      "source": [
        "\n",
        "#g)Todos los registros que no sean de “verduleria_fruteria“ mayor a “6.138441e+06” o menor a “9.8e+05”\n",
        "df_g= df[~(df['verduleria_fruteria'] > 6138441) | ~(df['verduleria_fruteria'] < 980000)]\n",
        "print(df_g)"
      ],
      "metadata": {
        "id": "nujFLYDB_6nn"
      },
      "execution_count": null,
      "outputs": []
    },
    {
      "cell_type": "code",
      "source": [
        "df_a.to_csv(\"df_a.csv\")\n",
        "from google.colab import files\n",
        "\n",
        "\n",
        "files.download(\"df_a.csv\")"
      ],
      "metadata": {
        "colab": {
          "base_uri": "https://localhost:8080/",
          "height": 17
        },
        "id": "x_ZJfPVVADdV",
        "outputId": "4a00d02c-78f6-4fa7-d580-f03728244d07"
      },
      "execution_count": 12,
      "outputs": [
        {
          "output_type": "display_data",
          "data": {
            "text/plain": [
              "<IPython.core.display.Javascript object>"
            ],
            "application/javascript": [
              "\n",
              "    async function download(id, filename, size) {\n",
              "      if (!google.colab.kernel.accessAllowed) {\n",
              "        return;\n",
              "      }\n",
              "      const div = document.createElement('div');\n",
              "      const label = document.createElement('label');\n",
              "      label.textContent = `Downloading \"${filename}\": `;\n",
              "      div.appendChild(label);\n",
              "      const progress = document.createElement('progress');\n",
              "      progress.max = size;\n",
              "      div.appendChild(progress);\n",
              "      document.body.appendChild(div);\n",
              "\n",
              "      const buffers = [];\n",
              "      let downloaded = 0;\n",
              "\n",
              "      const channel = await google.colab.kernel.comms.open(id);\n",
              "      // Send a message to notify the kernel that we're ready.\n",
              "      channel.send({})\n",
              "\n",
              "      for await (const message of channel.messages) {\n",
              "        // Send a message to notify the kernel that we're ready.\n",
              "        channel.send({})\n",
              "        if (message.buffers) {\n",
              "          for (const buffer of message.buffers) {\n",
              "            buffers.push(buffer);\n",
              "            downloaded += buffer.byteLength;\n",
              "            progress.value = downloaded;\n",
              "          }\n",
              "        }\n",
              "      }\n",
              "      const blob = new Blob(buffers, {type: 'application/binary'});\n",
              "      const a = document.createElement('a');\n",
              "      a.href = window.URL.createObjectURL(blob);\n",
              "      a.download = filename;\n",
              "      div.appendChild(a);\n",
              "      a.click();\n",
              "      div.remove();\n",
              "    }\n",
              "  "
            ]
          },
          "metadata": {}
        },
        {
          "output_type": "display_data",
          "data": {
            "text/plain": [
              "<IPython.core.display.Javascript object>"
            ],
            "application/javascript": [
              "download(\"download_9e3afbb7-bd64-42f1-bc87-5da411e85603\", \"df_a.csv\", 24599)"
            ]
          },
          "metadata": {}
        }
      ]
    },
    {
      "cell_type": "code",
      "source": [],
      "metadata": {
        "id": "hjI9Nh9YA-Kb"
      },
      "execution_count": null,
      "outputs": []
    },
    {
      "cell_type": "code",
      "source": [
        "df_b.to_csv(\"df_b.csv\")\n",
        "from google.colab import files\n",
        "\n",
        "\n",
        "files.download(\"df_b.csv\")"
      ],
      "metadata": {
        "colab": {
          "base_uri": "https://localhost:8080/",
          "height": 17
        },
        "id": "oxQIdq5bAE7X",
        "outputId": "b1d47ef9-e3fd-4389-fb7e-35c8ec8fb23f"
      },
      "execution_count": 11,
      "outputs": [
        {
          "output_type": "display_data",
          "data": {
            "text/plain": [
              "<IPython.core.display.Javascript object>"
            ],
            "application/javascript": [
              "\n",
              "    async function download(id, filename, size) {\n",
              "      if (!google.colab.kernel.accessAllowed) {\n",
              "        return;\n",
              "      }\n",
              "      const div = document.createElement('div');\n",
              "      const label = document.createElement('label');\n",
              "      label.textContent = `Downloading \"${filename}\": `;\n",
              "      div.appendChild(label);\n",
              "      const progress = document.createElement('progress');\n",
              "      progress.max = size;\n",
              "      div.appendChild(progress);\n",
              "      document.body.appendChild(div);\n",
              "\n",
              "      const buffers = [];\n",
              "      let downloaded = 0;\n",
              "\n",
              "      const channel = await google.colab.kernel.comms.open(id);\n",
              "      // Send a message to notify the kernel that we're ready.\n",
              "      channel.send({})\n",
              "\n",
              "      for await (const message of channel.messages) {\n",
              "        // Send a message to notify the kernel that we're ready.\n",
              "        channel.send({})\n",
              "        if (message.buffers) {\n",
              "          for (const buffer of message.buffers) {\n",
              "            buffers.push(buffer);\n",
              "            downloaded += buffer.byteLength;\n",
              "            progress.value = downloaded;\n",
              "          }\n",
              "        }\n",
              "      }\n",
              "      const blob = new Blob(buffers, {type: 'application/binary'});\n",
              "      const a = document.createElement('a');\n",
              "      a.href = window.URL.createObjectURL(blob);\n",
              "      a.download = filename;\n",
              "      div.appendChild(a);\n",
              "      a.click();\n",
              "      div.remove();\n",
              "    }\n",
              "  "
            ]
          },
          "metadata": {}
        },
        {
          "output_type": "display_data",
          "data": {
            "text/plain": [
              "<IPython.core.display.Javascript object>"
            ],
            "application/javascript": [
              "download(\"download_1e3cef9f-2e16-4534-a6c5-992a3b001afd\", \"df_b.csv\", 11176)"
            ]
          },
          "metadata": {}
        }
      ]
    },
    {
      "cell_type": "code",
      "source": [
        "df_c.to_csv(\"df_c.csv\")\n",
        "from google.colab import files\n",
        "\n",
        "\n",
        "files.download(\"df_c.csv\")"
      ],
      "metadata": {
        "colab": {
          "base_uri": "https://localhost:8080/",
          "height": 17
        },
        "id": "uYVVYEyoAF1k",
        "outputId": "a7d564c4-7b6e-43ad-ad6d-6b2e58bece1c"
      },
      "execution_count": 10,
      "outputs": [
        {
          "output_type": "display_data",
          "data": {
            "text/plain": [
              "<IPython.core.display.Javascript object>"
            ],
            "application/javascript": [
              "\n",
              "    async function download(id, filename, size) {\n",
              "      if (!google.colab.kernel.accessAllowed) {\n",
              "        return;\n",
              "      }\n",
              "      const div = document.createElement('div');\n",
              "      const label = document.createElement('label');\n",
              "      label.textContent = `Downloading \"${filename}\": `;\n",
              "      div.appendChild(label);\n",
              "      const progress = document.createElement('progress');\n",
              "      progress.max = size;\n",
              "      div.appendChild(progress);\n",
              "      document.body.appendChild(div);\n",
              "\n",
              "      const buffers = [];\n",
              "      let downloaded = 0;\n",
              "\n",
              "      const channel = await google.colab.kernel.comms.open(id);\n",
              "      // Send a message to notify the kernel that we're ready.\n",
              "      channel.send({})\n",
              "\n",
              "      for await (const message of channel.messages) {\n",
              "        // Send a message to notify the kernel that we're ready.\n",
              "        channel.send({})\n",
              "        if (message.buffers) {\n",
              "          for (const buffer of message.buffers) {\n",
              "            buffers.push(buffer);\n",
              "            downloaded += buffer.byteLength;\n",
              "            progress.value = downloaded;\n",
              "          }\n",
              "        }\n",
              "      }\n",
              "      const blob = new Blob(buffers, {type: 'application/binary'});\n",
              "      const a = document.createElement('a');\n",
              "      a.href = window.URL.createObjectURL(blob);\n",
              "      a.download = filename;\n",
              "      div.appendChild(a);\n",
              "      a.click();\n",
              "      div.remove();\n",
              "    }\n",
              "  "
            ]
          },
          "metadata": {}
        },
        {
          "output_type": "display_data",
          "data": {
            "text/plain": [
              "<IPython.core.display.Javascript object>"
            ],
            "application/javascript": [
              "download(\"download_08f23730-1452-48ab-89f9-8f212c5a7e60\", \"df_c.csv\", 19631)"
            ]
          },
          "metadata": {}
        }
      ]
    },
    {
      "cell_type": "code",
      "source": [
        "from google.colab import files\n",
        "df_d.to_csv(\"df_d.csv\")\n",
        "\n",
        "\n",
        "files.download(\"df_d.csv\")"
      ],
      "metadata": {
        "colab": {
          "base_uri": "https://localhost:8080/",
          "height": 17
        },
        "id": "U_sDYiSTAIXY",
        "outputId": "b5cbd460-672b-4f36-eb2a-434b73c48711"
      },
      "execution_count": 9,
      "outputs": [
        {
          "output_type": "display_data",
          "data": {
            "text/plain": [
              "<IPython.core.display.Javascript object>"
            ],
            "application/javascript": [
              "\n",
              "    async function download(id, filename, size) {\n",
              "      if (!google.colab.kernel.accessAllowed) {\n",
              "        return;\n",
              "      }\n",
              "      const div = document.createElement('div');\n",
              "      const label = document.createElement('label');\n",
              "      label.textContent = `Downloading \"${filename}\": `;\n",
              "      div.appendChild(label);\n",
              "      const progress = document.createElement('progress');\n",
              "      progress.max = size;\n",
              "      div.appendChild(progress);\n",
              "      document.body.appendChild(div);\n",
              "\n",
              "      const buffers = [];\n",
              "      let downloaded = 0;\n",
              "\n",
              "      const channel = await google.colab.kernel.comms.open(id);\n",
              "      // Send a message to notify the kernel that we're ready.\n",
              "      channel.send({})\n",
              "\n",
              "      for await (const message of channel.messages) {\n",
              "        // Send a message to notify the kernel that we're ready.\n",
              "        channel.send({})\n",
              "        if (message.buffers) {\n",
              "          for (const buffer of message.buffers) {\n",
              "            buffers.push(buffer);\n",
              "            downloaded += buffer.byteLength;\n",
              "            progress.value = downloaded;\n",
              "          }\n",
              "        }\n",
              "      }\n",
              "      const blob = new Blob(buffers, {type: 'application/binary'});\n",
              "      const a = document.createElement('a');\n",
              "      a.href = window.URL.createObjectURL(blob);\n",
              "      a.download = filename;\n",
              "      div.appendChild(a);\n",
              "      a.click();\n",
              "      div.remove();\n",
              "    }\n",
              "  "
            ]
          },
          "metadata": {}
        },
        {
          "output_type": "display_data",
          "data": {
            "text/plain": [
              "<IPython.core.display.Javascript object>"
            ],
            "application/javascript": [
              "download(\"download_8425d1df-4623-4581-b36a-55673fea5fb0\", \"df_d.csv\", 22658)"
            ]
          },
          "metadata": {}
        }
      ]
    },
    {
      "cell_type": "code",
      "source": [
        "df_e.to_csv(\"df_e.csv\")\n",
        "from google.colab import files\n",
        "\n",
        "\n",
        "files.download(\"df_e.csv\")"
      ],
      "metadata": {
        "colab": {
          "base_uri": "https://localhost:8080/",
          "height": 17
        },
        "id": "JcY61QbXALKl",
        "outputId": "5af0364f-5ec7-4468-e374-f76c2e0d4cc3"
      },
      "execution_count": 8,
      "outputs": [
        {
          "output_type": "display_data",
          "data": {
            "text/plain": [
              "<IPython.core.display.Javascript object>"
            ],
            "application/javascript": [
              "\n",
              "    async function download(id, filename, size) {\n",
              "      if (!google.colab.kernel.accessAllowed) {\n",
              "        return;\n",
              "      }\n",
              "      const div = document.createElement('div');\n",
              "      const label = document.createElement('label');\n",
              "      label.textContent = `Downloading \"${filename}\": `;\n",
              "      div.appendChild(label);\n",
              "      const progress = document.createElement('progress');\n",
              "      progress.max = size;\n",
              "      div.appendChild(progress);\n",
              "      document.body.appendChild(div);\n",
              "\n",
              "      const buffers = [];\n",
              "      let downloaded = 0;\n",
              "\n",
              "      const channel = await google.colab.kernel.comms.open(id);\n",
              "      // Send a message to notify the kernel that we're ready.\n",
              "      channel.send({})\n",
              "\n",
              "      for await (const message of channel.messages) {\n",
              "        // Send a message to notify the kernel that we're ready.\n",
              "        channel.send({})\n",
              "        if (message.buffers) {\n",
              "          for (const buffer of message.buffers) {\n",
              "            buffers.push(buffer);\n",
              "            downloaded += buffer.byteLength;\n",
              "            progress.value = downloaded;\n",
              "          }\n",
              "        }\n",
              "      }\n",
              "      const blob = new Blob(buffers, {type: 'application/binary'});\n",
              "      const a = document.createElement('a');\n",
              "      a.href = window.URL.createObjectURL(blob);\n",
              "      a.download = filename;\n",
              "      div.appendChild(a);\n",
              "      a.click();\n",
              "      div.remove();\n",
              "    }\n",
              "  "
            ]
          },
          "metadata": {}
        },
        {
          "output_type": "display_data",
          "data": {
            "text/plain": [
              "<IPython.core.display.Javascript object>"
            ],
            "application/javascript": [
              "download(\"download_16deba57-8bd2-4932-80e8-82508fa75c38\", \"df_e.csv\", 23487)"
            ]
          },
          "metadata": {}
        }
      ]
    },
    {
      "cell_type": "code",
      "source": [
        "df_f.to_csv(\"df_f.csv\")\n",
        "from google.colab import files\n",
        "\n",
        "\n",
        "files.download(\"df_f.csv\")"
      ],
      "metadata": {
        "colab": {
          "base_uri": "https://localhost:8080/",
          "height": 17
        },
        "id": "fgI0oU2rAODN",
        "outputId": "4fd10943-cbac-4b27-c550-6aee210fb9cd"
      },
      "execution_count": 7,
      "outputs": [
        {
          "output_type": "display_data",
          "data": {
            "text/plain": [
              "<IPython.core.display.Javascript object>"
            ],
            "application/javascript": [
              "\n",
              "    async function download(id, filename, size) {\n",
              "      if (!google.colab.kernel.accessAllowed) {\n",
              "        return;\n",
              "      }\n",
              "      const div = document.createElement('div');\n",
              "      const label = document.createElement('label');\n",
              "      label.textContent = `Downloading \"${filename}\": `;\n",
              "      div.appendChild(label);\n",
              "      const progress = document.createElement('progress');\n",
              "      progress.max = size;\n",
              "      div.appendChild(progress);\n",
              "      document.body.appendChild(div);\n",
              "\n",
              "      const buffers = [];\n",
              "      let downloaded = 0;\n",
              "\n",
              "      const channel = await google.colab.kernel.comms.open(id);\n",
              "      // Send a message to notify the kernel that we're ready.\n",
              "      channel.send({})\n",
              "\n",
              "      for await (const message of channel.messages) {\n",
              "        // Send a message to notify the kernel that we're ready.\n",
              "        channel.send({})\n",
              "        if (message.buffers) {\n",
              "          for (const buffer of message.buffers) {\n",
              "            buffers.push(buffer);\n",
              "            downloaded += buffer.byteLength;\n",
              "            progress.value = downloaded;\n",
              "          }\n",
              "        }\n",
              "      }\n",
              "      const blob = new Blob(buffers, {type: 'application/binary'});\n",
              "      const a = document.createElement('a');\n",
              "      a.href = window.URL.createObjectURL(blob);\n",
              "      a.download = filename;\n",
              "      div.appendChild(a);\n",
              "      a.click();\n",
              "      div.remove();\n",
              "    }\n",
              "  "
            ]
          },
          "metadata": {}
        },
        {
          "output_type": "display_data",
          "data": {
            "text/plain": [
              "<IPython.core.display.Javascript object>"
            ],
            "application/javascript": [
              "download(\"download_19b69516-528a-451a-bc16-ec049747aebf\", \"df_f.csv\", 462)"
            ]
          },
          "metadata": {}
        }
      ]
    },
    {
      "cell_type": "code",
      "source": [
        "df_g.to_csv(\"df_g.csv\")\n",
        "from google.colab import files\n",
        "\n",
        "\n",
        "files.download(\"df_g.csv\")"
      ],
      "metadata": {
        "colab": {
          "base_uri": "https://localhost:8080/",
          "height": 17
        },
        "id": "zE4LM-m-AQmn",
        "outputId": "3457e224-339d-4473-b2a5-63468fed4a07"
      },
      "execution_count": 6,
      "outputs": [
        {
          "output_type": "display_data",
          "data": {
            "text/plain": [
              "<IPython.core.display.Javascript object>"
            ],
            "application/javascript": [
              "\n",
              "    async function download(id, filename, size) {\n",
              "      if (!google.colab.kernel.accessAllowed) {\n",
              "        return;\n",
              "      }\n",
              "      const div = document.createElement('div');\n",
              "      const label = document.createElement('label');\n",
              "      label.textContent = `Downloading \"${filename}\": `;\n",
              "      div.appendChild(label);\n",
              "      const progress = document.createElement('progress');\n",
              "      progress.max = size;\n",
              "      div.appendChild(progress);\n",
              "      document.body.appendChild(div);\n",
              "\n",
              "      const buffers = [];\n",
              "      let downloaded = 0;\n",
              "\n",
              "      const channel = await google.colab.kernel.comms.open(id);\n",
              "      // Send a message to notify the kernel that we're ready.\n",
              "      channel.send({})\n",
              "\n",
              "      for await (const message of channel.messages) {\n",
              "        // Send a message to notify the kernel that we're ready.\n",
              "        channel.send({})\n",
              "        if (message.buffers) {\n",
              "          for (const buffer of message.buffers) {\n",
              "            buffers.push(buffer);\n",
              "            downloaded += buffer.byteLength;\n",
              "            progress.value = downloaded;\n",
              "          }\n",
              "        }\n",
              "      }\n",
              "      const blob = new Blob(buffers, {type: 'application/binary'});\n",
              "      const a = document.createElement('a');\n",
              "      a.href = window.URL.createObjectURL(blob);\n",
              "      a.download = filename;\n",
              "      div.appendChild(a);\n",
              "      a.click();\n",
              "      div.remove();\n",
              "    }\n",
              "  "
            ]
          },
          "metadata": {}
        },
        {
          "output_type": "display_data",
          "data": {
            "text/plain": [
              "<IPython.core.display.Javascript object>"
            ],
            "application/javascript": [
              "download(\"download_75d9ac99-77aa-4dca-bf78-14f7418c889e\", \"df_g.csv\", 25333)"
            ]
          },
          "metadata": {}
        }
      ]
    }
  ]
}